{
 "cells": [
  {
   "cell_type": "code",
   "execution_count": 1,
   "metadata": {},
   "outputs": [],
   "source": [
    "# import yaml\n",
    "\n",
    "from jinja2 import Environment, FileSystemLoader"
   ]
  },
  {
   "cell_type": "code",
   "execution_count": null,
   "metadata": {},
   "outputs": [],
   "source": [
    "import jinja"
   ]
  },
  {
   "cell_type": "code",
   "execution_count": 2,
   "metadata": {},
   "outputs": [],
   "source": [
    "env = Environment(loader = FileSystemLoader(r\"C:\\Users\\Juichavan\\Desktop\\assign4\"), trim_blocks=True, lstrip_blocks=True)\n",
    "\n",
    "template = env.get_template('template.yml')"
   ]
  },
  {
   "cell_type": "code",
   "execution_count": 5,
   "metadata": {},
   "outputs": [],
   "source": [
    "values = {\n",
    "\n",
    "'data_id': option,\n",
    "\n",
    "'train_size': option1,\n",
    "\n",
    "'noise_level': option2,\n",
    "\n",
    "'test_size': option3,\n",
    "\n",
    "'val_size': option4,\n",
    "\n",
    "'baseline': 'random',\n",
    "\n",
    "}"
   ]
  },
  {
   "cell_type": "code",
   "execution_count": 6,
   "metadata": {},
   "outputs": [
    {
     "name": "stdout",
     "output_type": "stream",
     "text": [
      "paths:\n",
      "    embedding_folder: embeddings/\n",
      "    groundtruth_folder: data/\n",
      "    submission_folder: submissions/\n",
      "    results_folder: results/\n",
      "  \n",
      "  tasks:\n",
      "    - data_id: some-data-id\n",
      "      train_size: 500\n",
      "      noise_level: 0.3\n",
      "      test_size: 200\n",
      "      val_size: 100\n",
      "    \n",
      "  \n",
      "  baselines:\n",
      "     #- name: neighbor_shapley (datascope)\n",
      "     - name: random\n",
      "     # - name: influence_function\n",
      "     #- name: mc_shapley\n",
      "  \n"
     ]
    }
   ],
   "source": [
    "print(template.render(values))"
   ]
  },
  {
   "cell_type": "code",
   "execution_count": 7,
   "metadata": {},
   "outputs": [],
   "source": [
    "file=open(\"output.yaml\", \"w\")\n",
    "\n",
    "file.write(template.render(values))\n",
    "\n",
    "file.close()"
   ]
  }
 ],
 "metadata": {
  "kernelspec": {
   "display_name": "Python 3.10.5 ('jinjaenv': venv)",
   "language": "python",
   "name": "python3"
  },
  "language_info": {
   "codemirror_mode": {
    "name": "ipython",
    "version": 3
   },
   "file_extension": ".py",
   "mimetype": "text/x-python",
   "name": "python",
   "nbconvert_exporter": "python",
   "pygments_lexer": "ipython3",
   "version": "3.10.5"
  },
  "orig_nbformat": 4,
  "vscode": {
   "interpreter": {
    "hash": "863ee1eac31571202df31d555c25a0fdd758bdb150974aa34438dcfef4427904"
   }
  }
 },
 "nbformat": 4,
 "nbformat_minor": 2
}
